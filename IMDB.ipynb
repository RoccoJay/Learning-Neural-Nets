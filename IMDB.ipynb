{
 "cells": [
  {
   "cell_type": "code",
   "execution_count": 1,
   "metadata": {},
   "outputs": [
    {
     "name": "stderr",
     "output_type": "stream",
     "text": [
      "Using TensorFlow backend.\n"
     ]
    }
   ],
   "source": [
    "from keras import models, layers\n",
    "from keras.datasets import imdb"
   ]
  },
  {
   "cell_type": "code",
   "execution_count": 2,
   "metadata": {},
   "outputs": [],
   "source": [
    "(train_data, train_labels), (test_data, test_labels) = imdb.load_data(num_words=10000)"
   ]
  },
  {
   "cell_type": "code",
   "execution_count": 3,
   "metadata": {},
   "outputs": [],
   "source": [
    "word_index = imdb.get_word_index()\n",
    "reverse_word_index = dict([(value, key) for (key, value) in word_index.items()])\n",
    "decoded_review = ' '.join([reverse_word_index.get(i - 3, '?') for i in train_data[0]])"
   ]
  },
  {
   "cell_type": "code",
   "execution_count": 4,
   "metadata": {},
   "outputs": [
    {
     "data": {
      "text/plain": [
       "\"? this film was just brilliant casting location scenery story direction everyone's really suited the part they played and you could just imagine being there robert ? is an amazing actor and now the same being director ? father came from the same scottish island as myself so i loved the fact there was a real connection with this film the witty remarks throughout the film were great it was just brilliant so much that i bought the film as soon as it was released for ? and would recommend it to everyone to watch and the fly fishing was amazing really cried at the end it was so sad and you know what they say if you cry at a film it must have been good and this definitely was also ? to the two little boy's that played the ? of norman and paul they were just brilliant children are often left out of the ? list i think because the stars that play them all grown up are such a big profile for the whole film but these children are amazing and should be praised for what they have done don't you think the whole story was so lovely because it was true and was someone's life after all that was shared with us all\""
      ]
     },
     "execution_count": 4,
     "metadata": {},
     "output_type": "execute_result"
    }
   ],
   "source": [
    "decoded_review"
   ]
  },
  {
   "cell_type": "code",
   "execution_count": 5,
   "metadata": {},
   "outputs": [],
   "source": [
    "import numpy as np"
   ]
  },
  {
   "cell_type": "code",
   "execution_count": 6,
   "metadata": {},
   "outputs": [],
   "source": [
    "def vectorize_sequences(sequences, dimension=10000):\n",
    "    results = np.zeros((len(sequences), dimension))\n",
    "    for i, sequence in enumerate(sequences):\n",
    "        results[i, sequence] = 1.\n",
    "    return results\n",
    "\n",
    "x_train = vectorize_sequences(train_data)\n",
    "x_test = vectorize_sequences(test_data)\n",
    "\n",
    "y_train = np.asarray(train_labels).astype('float32')\n",
    "y_test = np.asarray(test_labels).astype('float32')"
   ]
  },
  {
   "cell_type": "code",
   "execution_count": 7,
   "metadata": {},
   "outputs": [],
   "source": [
    "model = models.Sequential()\n",
    "model.add(layers.Dense(16, activation='relu', input_shape=(10000,)))\n",
    "model.add(layers.Dense(16, activation='relu'))\n",
    "model.add(layers.Dense(1, activation='sigmoid'))\n",
    "model.compile(optimizer='rmsprop', loss='binary_crossentropy', metrics=['accuracy'])"
   ]
  },
  {
   "cell_type": "code",
   "execution_count": 8,
   "metadata": {},
   "outputs": [],
   "source": [
    "x_val = x_train[:10000]\n",
    "partial_x_train = x_train[10000:]\n",
    "\n",
    "y_val = y_train[:10000]\n",
    "partial_y_train = y_train[10000:]"
   ]
  },
  {
   "cell_type": "code",
   "execution_count": 9,
   "metadata": {},
   "outputs": [
    {
     "name": "stdout",
     "output_type": "stream",
     "text": [
      "Train on 15000 samples, validate on 10000 samples\n",
      "Epoch 1/20\n",
      "15000/15000 [==============================] - 5s 344us/step - loss: 0.5635 - acc: 0.7453 - val_loss: 0.4272 - val_acc: 0.8704\n",
      "Epoch 2/20\n",
      "15000/15000 [==============================] - 4s 291us/step - loss: 0.3295 - acc: 0.9000 - val_loss: 0.3258 - val_acc: 0.8753\n",
      "Epoch 3/20\n",
      "15000/15000 [==============================] - 4s 293us/step - loss: 0.2288 - acc: 0.9243 - val_loss: 0.2804 - val_acc: 0.8911\n",
      "Epoch 4/20\n",
      "15000/15000 [==============================] - 5s 320us/step - loss: 0.1777 - acc: 0.9451 - val_loss: 0.2907 - val_acc: 0.8832\n",
      "Epoch 5/20\n",
      "15000/15000 [==============================] - 5s 310us/step - loss: 0.1469 - acc: 0.9541 - val_loss: 0.2795 - val_acc: 0.8880\n",
      "Epoch 6/20\n",
      "15000/15000 [==============================] - 5s 315us/step - loss: 0.1192 - acc: 0.9637 - val_loss: 0.3386 - val_acc: 0.8772\n",
      "Epoch 7/20\n",
      "15000/15000 [==============================] - 4s 293us/step - loss: 0.0985 - acc: 0.9703 - val_loss: 0.3358 - val_acc: 0.8798\n",
      "Epoch 8/20\n",
      "15000/15000 [==============================] - 4s 292us/step - loss: 0.0819 - acc: 0.9776 - val_loss: 0.3269 - val_acc: 0.8792\n",
      "Epoch 9/20\n",
      "15000/15000 [==============================] - 4s 293us/step - loss: 0.0664 - acc: 0.9821 - val_loss: 0.3468 - val_acc: 0.8783\n",
      "Epoch 10/20\n",
      "15000/15000 [==============================] - 4s 295us/step - loss: 0.0545 - acc: 0.9865 - val_loss: 0.3817 - val_acc: 0.8805\n",
      "Epoch 11/20\n",
      "15000/15000 [==============================] - 4s 296us/step - loss: 0.0438 - acc: 0.9891 - val_loss: 0.4211 - val_acc: 0.8761\n",
      "Epoch 12/20\n",
      "15000/15000 [==============================] - 4s 292us/step - loss: 0.0324 - acc: 0.9943 - val_loss: 0.4300 - val_acc: 0.8721\n",
      "Epoch 13/20\n",
      "15000/15000 [==============================] - 4s 291us/step - loss: 0.0269 - acc: 0.9943 - val_loss: 0.4658 - val_acc: 0.8751\n",
      "Epoch 14/20\n",
      "15000/15000 [==============================] - 4s 292us/step - loss: 0.0226 - acc: 0.9953 - val_loss: 0.4880 - val_acc: 0.8706\n",
      "Epoch 15/20\n",
      "15000/15000 [==============================] - 4s 298us/step - loss: 0.0158 - acc: 0.9979 - val_loss: 0.5197 - val_acc: 0.8723\n",
      "Epoch 16/20\n",
      "15000/15000 [==============================] - 4s 294us/step - loss: 0.0095 - acc: 0.9995 - val_loss: 0.5515 - val_acc: 0.8701\n",
      "Epoch 17/20\n",
      "15000/15000 [==============================] - 4s 293us/step - loss: 0.0094 - acc: 0.9989 - val_loss: 0.5935 - val_acc: 0.8688\n",
      "Epoch 18/20\n",
      "15000/15000 [==============================] - 5s 326us/step - loss: 0.0080 - acc: 0.9987 - val_loss: 0.6272 - val_acc: 0.8684\n",
      "Epoch 19/20\n",
      "15000/15000 [==============================] - 4s 297us/step - loss: 0.0036 - acc: 0.9999 - val_loss: 0.6536 - val_acc: 0.8677\n",
      "Epoch 20/20\n",
      "15000/15000 [==============================] - 4s 294us/step - loss: 0.0062 - acc: 0.9991 - val_loss: 0.6925 - val_acc: 0.8684\n"
     ]
    }
   ],
   "source": [
    "model.compile(optimizer='rmsprop', loss='binary_crossentropy', metrics=['acc'])\n",
    "\n",
    "history = model.fit(partial_x_train, partial_y_train, epochs=20, batch_size=512, validation_data=(x_val, y_val))"
   ]
  },
  {
   "cell_type": "code",
   "execution_count": 13,
   "metadata": {},
   "outputs": [
    {
     "data": {
      "image/png": "[encoded data removed]",
      "text/plain": [
       "<Figure size 432x288 with 1 Axes>"
      ]
     },
     "metadata": {
      "needs_background": "light"
     },
     "output_type": "display_data"
    }
   ],
   "source": [
    "import matplotlib.pyplot as plt\n",
    "\n",
    "history_dict = history.history\n",
    "loss_values = history_dict['loss']\n",
    "val_loss_values = history_dict['val_loss']\n",
    "\n",
    "epochs = range(1, len(loss_values) + 1)\n",
    "\n",
    "plt.plot(epochs, loss_values, label='Training loss')\n",
    "plt.plot(epochs, val_loss_values, label='Validation loss')\n",
    "plt.title('Training and Validation Loss')\n",
    "plt.xlabel('Epochs')\n",
    "plt.ylabel('Loss')\n",
    "plt.legend()\n",
    "plt.show()"
   ]
  },
  {
   "cell_type": "code",
   "execution_count": 11,
   "metadata": {},
   "outputs": [
    {
     "data": {
      "image/png": "[encoded data removed]",
      "text/plain": [
       "<Figure size 432x288 with 1 Axes>"
      ]
     },
     "metadata": {
      "needs_background": "light"
     },
     "output_type": "display_data"
    }
   ],
   "source": [
    "acc = history_dict['acc']\n",
    "val_acc = history_dict['val_acc']\n",
    "plt.plot(epochs, acc, label='Training acc')\n",
    "plt.plot(epochs, val_acc, label='Validation acc')\n",
    "plt.title('Training and Validation Accuracy')\n",
    "plt.xlabel('Epochs')\n",
    "plt.ylabel('Accuracy')\n",
    "plt.legend()\n",
    "plt.show()"
   ]
  },
  {
   "cell_type": "code",
   "execution_count": 12,
   "metadata": {},
   "outputs": [
    {
     "name": "stdout",
     "output_type": "stream",
     "text": [
      "Epoch 1/4\n",
      "15000/15000 [==============================] - 3s 207us/step - loss: 0.5048 - accuracy: 0.7819\n",
      "Epoch 2/4\n",
      "15000/15000 [==============================] - 3s 206us/step - loss: 0.2936 - accuracy: 0.9055\n",
      "Epoch 3/4\n",
      "15000/15000 [==============================] - 3s 216us/step - loss: 0.2140 - accuracy: 0.9303\n",
      "Epoch 4/4\n",
      "15000/15000 [==============================] - 3s 187us/step - loss: 0.1689 - accuracy: 0.9467\n",
      "25000/25000 [==============================] - 6s 244us/step\n"
     ]
    },
    {
     "data": {
      "text/plain": [
       "[0.30250941300392153, 0.8786799907684326]"
      ]
     },
     "execution_count": 12,
     "metadata": {},
     "output_type": "execute_result"
    }
   ],
   "source": [
    "model = models.Sequential()\n",
    "model.add(layers.Dense(16, activation='relu', input_shape=(10000,)))\n",
    "model.add(layers.Dense(16, activation='relu'))\n",
    "model.add(layers.Dense(1, activation='sigmoid'))\n",
    "model.compile(optimizer='rmsprop', loss='binary_crossentropy', metrics=['accuracy'])\n",
    "\n",
    "model.fit(partial_x_train, partial_y_train, epochs=4, batch_size=512)\n",
    "results = model.evaluate(x_test, y_test)\n",
    "\n",
    "results"
   ]
  }
 ],
 "metadata": {
  "kernelspec": {
   "display_name": "Python 3",
   "language": "python",
   "name": "python3"
  },
  "language_info": {
   "codemirror_mode": {
    "name": "ipython",
    "version": 3
   },
   "file_extension": ".py",
   "mimetype": "text/x-python",
   "name": "python",
   "nbconvert_exporter": "python",
   "pygments_lexer": "ipython3",
   "version": "3.7.3"
  }
 },
 "nbformat": 4,
 "nbformat_minor": 4
}
