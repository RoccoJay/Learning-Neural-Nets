{
 "cells": [
  {
   "cell_type": "code",
   "execution_count": 1,
   "metadata": {},
   "outputs": [
    {
     "name": "stderr",
     "output_type": "stream",
     "text": [
      "Using TensorFlow backend.\n"
     ]
    }
   ],
   "source": [
    "from keras import models, layers\n",
    "from keras.datasets import reuters"
   ]
  },
  {
   "cell_type": "code",
   "execution_count": 2,
   "metadata": {},
   "outputs": [
    {
     "name": "stdout",
     "output_type": "stream",
     "text": [
      "Downloading data from https://s3.amazonaws.com/text-datasets/reuters.npz\n",
      "2113536/2110848 [==============================] - 0s 0us/step\n"
     ]
    }
   ],
   "source": [
    "(train_data, train_labels), (test_data, test_labels) = reuters.load_data(num_words=10000)"
   ]
  },
  {
   "cell_type": "code",
   "execution_count": 3,
   "metadata": {},
   "outputs": [
    {
     "name": "stdout",
     "output_type": "stream",
     "text": [
      "Downloading data from https://s3.amazonaws.com/text-datasets/reuters_word_index.json\n",
      "557056/550378 [==============================] - 0s 0us/step\n"
     ]
    }
   ],
   "source": [
    "word_index = reuters.get_word_index()\n",
    "reverse_word_index = dict([(value, key) for (key, value) in word_index.items()])\n",
    "decoded_review = ' '.join([reverse_word_index.get(i - 3, '?') for i in train_data[0]])"
   ]
  },
  {
   "cell_type": "code",
   "execution_count": 4,
   "metadata": {},
   "outputs": [
    {
     "data": {
      "text/plain": [
       "'? ? ? said as a result of its december acquisition of space co it expects earnings per share in 1987 of 1 15 to 1 30 dlrs per share up from 70 cts in 1986 the company said pretax net should rise to nine to 10 mln dlrs from six mln dlrs in 1986 and rental operation revenues to 19 to 22 mln dlrs from 12 5 mln dlrs it said cash flow per share this year should be 2 50 to three dlrs reuter 3'"
      ]
     },
     "execution_count": 4,
     "metadata": {},
     "output_type": "execute_result"
    }
   ],
   "source": [
    "decoded_review"
   ]
  },
  {
   "cell_type": "code",
   "execution_count": 5,
   "metadata": {},
   "outputs": [],
   "source": [
    "import numpy as np"
   ]
  },
  {
   "cell_type": "code",
   "execution_count": 6,
   "metadata": {},
   "outputs": [],
   "source": [
    "def vectorize_sequences(sequences, dimension=10000):\n",
    "    results = np.zeros((len(sequences), dimension))\n",
    "    for i, sequence in enumerate(sequences):\n",
    "        results[i, sequence] = 1.\n",
    "    return results\n",
    "\n",
    "x_train = vectorize_sequences(train_data)\n",
    "x_test = vectorize_sequences(test_data)"
   ]
  },
  {
   "cell_type": "code",
   "execution_count": 7,
   "metadata": {},
   "outputs": [],
   "source": [
    "from keras.utils.np_utils import to_categorical\n",
    "\n",
    "one_hot_train_labels = to_categorical(train_labels)\n",
    "one_hot_test_labels = to_categorical(test_labels)"
   ]
  },
  {
   "cell_type": "code",
   "execution_count": 8,
   "metadata": {},
   "outputs": [],
   "source": [
    "model = models.Sequential()\n",
    "model.add(layers.Dense(64, activation='relu', input_shape=(10000,)))\n",
    "model.add(layers.Dense(64, activation='relu'))\n",
    "model.add(layers.Dense(46, activation='softmax'))\n",
    "model.compile(optimizer='rmsprop', loss='categorical_crossentropy', metrics=['accuracy'])"
   ]
  },
  {
   "cell_type": "code",
   "execution_count": 9,
   "metadata": {},
   "outputs": [],
   "source": [
    "x_val = x_train[:1000]\n",
    "partial_x_train = x_train[1000:]\n",
    "\n",
    "y_val = one_hot_train_labels[:1000]\n",
    "partial_y_train = one_hot_train_labels[1000:]"
   ]
  },
  {
   "cell_type": "code",
   "execution_count": 10,
   "metadata": {},
   "outputs": [
    {
     "name": "stdout",
     "output_type": "stream",
     "text": [
      "Train on 7982 samples, validate on 1000 samples\n",
      "Epoch 1/20\n",
      "7982/7982 [==============================] - 3s 326us/step - loss: 2.6553 - accuracy: 0.5504 - val_loss: 1.8018 - val_accuracy: 0.6380\n",
      "Epoch 2/20\n",
      "7982/7982 [==============================] - 2s 241us/step - loss: 1.4449 - accuracy: 0.7080 - val_loss: 1.3176 - val_accuracy: 0.7250\n",
      "Epoch 3/20\n",
      "7982/7982 [==============================] - 2s 245us/step - loss: 1.0566 - accuracy: 0.7751 - val_loss: 1.1462 - val_accuracy: 0.7450\n",
      "Epoch 4/20\n",
      "7982/7982 [==============================] - 2s 244us/step - loss: 0.8381 - accuracy: 0.8210 - val_loss: 1.0928 - val_accuracy: 0.7710\n",
      "Epoch 5/20\n",
      "7982/7982 [==============================] - 2s 246us/step - loss: 0.6784 - accuracy: 0.8548 - val_loss: 0.9776 - val_accuracy: 0.7950\n",
      "Epoch 6/20\n",
      "7982/7982 [==============================] - 2s 245us/step - loss: 0.5445 - accuracy: 0.8837 - val_loss: 0.9367 - val_accuracy: 0.8090\n",
      "Epoch 7/20\n",
      "7982/7982 [==============================] - 2s 249us/step - loss: 0.4436 - accuracy: 0.9085 - val_loss: 0.9335 - val_accuracy: 0.8080\n",
      "Epoch 8/20\n",
      "7982/7982 [==============================] - 2s 246us/step - loss: 0.3633 - accuracy: 0.9248 - val_loss: 0.9149 - val_accuracy: 0.8120\n",
      "Epoch 9/20\n",
      "7982/7982 [==============================] - 2s 258us/step - loss: 0.2961 - accuracy: 0.9375 - val_loss: 0.8970 - val_accuracy: 0.8230\n",
      "Epoch 10/20\n",
      "7982/7982 [==============================] - 2s 257us/step - loss: 0.2559 - accuracy: 0.9436 - val_loss: 0.9210 - val_accuracy: 0.8170\n",
      "Epoch 11/20\n",
      "7982/7982 [==============================] - 2s 269us/step - loss: 0.2141 - accuracy: 0.9484 - val_loss: 0.9128 - val_accuracy: 0.8270\n",
      "Epoch 12/20\n",
      "7982/7982 [==============================] - 2s 262us/step - loss: 0.1920 - accuracy: 0.9514 - val_loss: 0.9643 - val_accuracy: 0.8130\n",
      "Epoch 13/20\n",
      "7982/7982 [==============================] - 2s 264us/step - loss: 0.1726 - accuracy: 0.9506 - val_loss: 0.9777 - val_accuracy: 0.8140\n",
      "Epoch 14/20\n",
      "7982/7982 [==============================] - 2s 248us/step - loss: 0.1535 - accuracy: 0.9553 - val_loss: 0.9747 - val_accuracy: 0.8130\n",
      "Epoch 15/20\n",
      "7982/7982 [==============================] - 2s 244us/step - loss: 0.1452 - accuracy: 0.9540 - val_loss: 1.0220 - val_accuracy: 0.8180\n",
      "Epoch 16/20\n",
      "7982/7982 [==============================] - 2s 256us/step - loss: 0.1337 - accuracy: 0.9573 - val_loss: 0.9960 - val_accuracy: 0.8220\n",
      "Epoch 17/20\n",
      "7982/7982 [==============================] - 2s 255us/step - loss: 0.1288 - accuracy: 0.9569 - val_loss: 1.0299 - val_accuracy: 0.8130\n",
      "Epoch 18/20\n",
      "7982/7982 [==============================] - 2s 249us/step - loss: 0.1217 - accuracy: 0.9580 - val_loss: 1.0961 - val_accuracy: 0.8010\n",
      "Epoch 19/20\n",
      "7982/7982 [==============================] - 2s 248us/step - loss: 0.1162 - accuracy: 0.9565 - val_loss: 1.1123 - val_accuracy: 0.8040\n",
      "Epoch 20/20\n",
      "7982/7982 [==============================] - 2s 261us/step - loss: 0.1161 - accuracy: 0.9574 - val_loss: 1.0952 - val_accuracy: 0.8120\n"
     ]
    }
   ],
   "source": [
    "history = model.fit(partial_x_train, partial_y_train, epochs=20, batch_size=512, validation_data=(x_val, y_val))"
   ]
  },
  {
   "cell_type": "code",
   "execution_count": 12,
   "metadata": {},
   "outputs": [
    {
     "data": {
      "image/png": "[encoded data removed]",
      "text/plain": [
       "<Figure size 432x288 with 1 Axes>"
      ]
     },
     "metadata": {
      "needs_background": "light"
     },
     "output_type": "display_data"
    }
   ],
   "source": [
    "import matplotlib.pyplot as plt\n",
    "\n",
    "history_dict = history.history\n",
    "loss_values = history_dict['loss']\n",
    "val_loss_values = history_dict['val_loss']\n",
    "\n",
    "epochs = range(1, len(loss_values) + 1)\n",
    "\n",
    "plt.plot(epochs, loss_values, label='Training loss')\n",
    "plt.plot(epochs, val_loss_values, label='Validation loss')\n",
    "plt.title('Training and Validation Loss')\n",
    "plt.xlabel('Epochs')\n",
    "plt.ylabel('Loss')\n",
    "plt.legend()\n",
    "plt.show()"
   ]
  },
  {
   "cell_type": "code",
   "execution_count": 17,
   "metadata": {},
   "outputs": [
    {
     "data": {
      "image/png": "[encoded data removed]",
      "text/plain": [
       "<Figure size 432x288 with 1 Axes>"
      ]
     },
     "metadata": {
      "needs_background": "light"
     },
     "output_type": "display_data"
    }
   ],
   "source": [
    "acc = history_dict['accuracy']\n",
    "val_acc = history_dict['val_accuracy']\n",
    "plt.plot(epochs, acc, label='Training acc')\n",
    "plt.plot(epochs, val_acc, label='Validation acc')\n",
    "plt.title('Training and Validation Accuracy')\n",
    "plt.xlabel('Epochs')\n",
    "plt.ylabel('Accuracy')\n",
    "plt.legend()\n",
    "plt.show()"
   ]
  },
  {
   "cell_type": "code",
   "execution_count": 18,
   "metadata": {},
   "outputs": [
    {
     "name": "stdout",
     "output_type": "stream",
     "text": [
      "Train on 7982 samples, validate on 1000 samples\n",
      "Epoch 1/9\n",
      "7982/7982 [==============================] - 2s 283us/step - loss: 2.6717 - accuracy: 0.5365 - val_loss: 1.7611 - val_accuracy: 0.6500\n",
      "Epoch 2/9\n",
      "7982/7982 [==============================] - 2s 259us/step - loss: 1.4285 - accuracy: 0.7077 - val_loss: 1.3211 - val_accuracy: 0.7090\n",
      "Epoch 3/9\n",
      "7982/7982 [==============================] - 2s 268us/step - loss: 1.0457 - accuracy: 0.7770 - val_loss: 1.1532 - val_accuracy: 0.7590\n",
      "Epoch 4/9\n",
      "7982/7982 [==============================] - 2s 281us/step - loss: 0.8239 - accuracy: 0.8227 - val_loss: 1.0412 - val_accuracy: 0.7740\n",
      "Epoch 5/9\n",
      "7982/7982 [==============================] - 2s 268us/step - loss: 0.6592 - accuracy: 0.8589 - val_loss: 0.9969 - val_accuracy: 0.7810\n",
      "Epoch 6/9\n",
      "7982/7982 [==============================] - 2s 282us/step - loss: 0.5258 - accuracy: 0.8895 - val_loss: 0.9535 - val_accuracy: 0.8010\n",
      "Epoch 7/9\n",
      "7982/7982 [==============================] - 2s 253us/step - loss: 0.4258 - accuracy: 0.9117 - val_loss: 0.8955 - val_accuracy: 0.8170\n",
      "Epoch 8/9\n",
      "7982/7982 [==============================] - 2s 246us/step - loss: 0.3478 - accuracy: 0.9283 - val_loss: 0.8893 - val_accuracy: 0.8110\n",
      "Epoch 9/9\n",
      "7982/7982 [==============================] - 2s 257us/step - loss: 0.2864 - accuracy: 0.9389 - val_loss: 0.9032 - val_accuracy: 0.8170\n",
      "2246/2246 [==============================] - 1s 284us/step\n"
     ]
    },
    {
     "data": {
      "text/plain": [
       "[0.9721290199011432, 0.7858415246009827]"
      ]
     },
     "execution_count": 18,
     "metadata": {},
     "output_type": "execute_result"
    }
   ],
   "source": [
    "model = models.Sequential()\n",
    "model.add(layers.Dense(64, activation='relu', input_shape=(10000,)))\n",
    "model.add(layers.Dense(64, activation='relu'))\n",
    "model.add(layers.Dense(46, activation='softmax'))\n",
    "model.compile(optimizer='rmsprop', loss='categorical_crossentropy', metrics=['accuracy'])\n",
    "model.fit(partial_x_train, partial_y_train, epochs=9, batch_size=512, validation_data=(x_val, y_val))\n",
    "results = model.evaluate(x_test, one_hot_test_labels)\n",
    "\n",
    "results"
   ]
  }
 ],
 "metadata": {
  "kernelspec": {
   "display_name": "Python 3",
   "language": "python",
   "name": "python3"
  },
  "language_info": {
   "codemirror_mode": {
    "name": "ipython",
    "version": 3
   },
   "file_extension": ".py",
   "mimetype": "text/x-python",
   "name": "python",
   "nbconvert_exporter": "python",
   "pygments_lexer": "ipython3",
   "version": "3.7.3"
  }
 },
 "nbformat": 4,
 "nbformat_minor": 4
}
